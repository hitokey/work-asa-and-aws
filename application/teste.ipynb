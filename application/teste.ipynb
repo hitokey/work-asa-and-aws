{
 "cells": [
  {
   "cell_type": "code",
   "execution_count": 1,
   "id": "24c4f475",
   "metadata": {},
   "outputs": [],
   "source": [
    "from src.user import User\n",
    "from flask import session, request, json, jsonify \n",
    "import json\n",
    "import os"
   ]
  },
  {
   "cell_type": "code",
   "execution_count": 2,
   "id": "9a39f531",
   "metadata": {},
   "outputs": [],
   "source": [
    "from db.dbconnect import ClientDB"
   ]
  },
  {
   "cell_type": "code",
   "execution_count": 3,
   "id": "a45d8bc9",
   "metadata": {},
   "outputs": [],
   "source": [
    "client_db = ClientDB(email='user1@email',password='1234')"
   ]
  },
  {
   "cell_type": "code",
   "execution_count": 4,
   "id": "2e1b577d",
   "metadata": {},
   "outputs": [
    {
     "data": {
      "text/plain": [
       "[(1, 'AERO1', 'UBERLANDIA', 'MINAS GERAIS', 'MG')]"
      ]
     },
     "execution_count": 4,
     "metadata": {},
     "output_type": "execute_result"
    }
   ],
   "source": [
    "client_db.getall_areo_to_cidade('UBERLANDIA')"
   ]
  },
  {
   "cell_type": "code",
   "execution_count": 5,
   "id": "404f6693",
   "metadata": {},
   "outputs": [
    {
     "data": {
      "text/plain": [
       "[(4, 'UBERLANDIA', 'SÃO PAULO', 'COMP2'),\n",
       " (1, 'UBERLANDIA', 'RIO JANEIRO', 'COMP1')]"
      ]
     },
     "execution_count": 5,
     "metadata": {},
     "output_type": "execute_result"
    }
   ],
   "source": [
    "client_db.get_voo_to_minus_tarifas(2)"
   ]
  },
  {
   "cell_type": "code",
   "execution_count": 6,
   "id": "4bc7764a",
   "metadata": {},
   "outputs": [
    {
     "name": "stdout",
     "output_type": "stream",
     "text": [
      "('1234',)\n"
     ]
    },
    {
     "data": {
      "text/plain": [
       "[('1234',)]"
      ]
     },
     "execution_count": 6,
     "metadata": {},
     "output_type": "execute_result"
    }
   ],
   "source": [
    "client_db.email_get_pass()"
   ]
  },
  {
   "cell_type": "code",
   "execution_count": 7,
   "id": "147a0547",
   "metadata": {},
   "outputs": [
    {
     "data": {
      "text/plain": [
       "[(1,\n",
       "  1,\n",
       "  'UBERLANDIA',\n",
       "  'RIO JANEIRO',\n",
       "  'COMP1',\n",
       "  1970.0,\n",
       "  datetime.date(2021, 10, 10),\n",
       "  datetime.time(19, 30)),\n",
       " (2,\n",
       "  1,\n",
       "  'UBERLANDIA',\n",
       "  'SÃO PAULO',\n",
       "  'COMP1',\n",
       "  1970.0,\n",
       "  datetime.date(2021, 10, 10),\n",
       "  datetime.time(19, 30))]"
      ]
     },
     "execution_count": 7,
     "metadata": {},
     "output_type": "execute_result"
    }
   ],
   "source": [
    "client_db.getall_voo_to_companhia('COMP1')"
   ]
  },
  {
   "cell_type": "code",
   "execution_count": 8,
   "id": "38d35057",
   "metadata": {},
   "outputs": [
    {
     "data": {
      "text/plain": [
       "[(1, 'AERO1', 'UBERLANDIA', 'MINAS GERAIS', 'MG')]"
      ]
     },
     "execution_count": 8,
     "metadata": {},
     "output_type": "execute_result"
    }
   ],
   "source": [
    "client_db.getall_areo_to_cidade('UBERLANDIA')"
   ]
  },
  {
   "cell_type": "code",
   "execution_count": 9,
   "id": "8b55d5da",
   "metadata": {},
   "outputs": [
    {
     "data": {
      "text/plain": [
       "[1970.0, 42, 27]"
      ]
     },
     "execution_count": 9,
     "metadata": {},
     "output_type": "execute_result"
    }
   ],
   "source": [
    "client_db.get_preco_to_id_voo(1)"
   ]
  },
  {
   "cell_type": "code",
   "execution_count": 10,
   "id": "b555ea1e",
   "metadata": {},
   "outputs": [],
   "source": [
    "client_db.update_voo_one(2,35)"
   ]
  },
  {
   "cell_type": "code",
   "execution_count": 11,
   "id": "25a5821f",
   "metadata": {},
   "outputs": [
    {
     "name": "stdout",
     "output_type": "stream",
     "text": [
      "('USER1',)\n"
     ]
    },
    {
     "data": {
      "text/plain": [
       "[('USER1',)]"
      ]
     },
     "execution_count": 11,
     "metadata": {},
     "output_type": "execute_result"
    }
   ],
   "source": [
    "client_db.email_get_user()"
   ]
  },
  {
   "cell_type": "code",
   "execution_count": 12,
   "id": "3cc73f29",
   "metadata": {},
   "outputs": [
    {
     "name": "stdout",
     "output_type": "stream",
     "text": [
      "('1234',)\n"
     ]
    },
    {
     "data": {
      "text/plain": [
       "[('1234',)]"
      ]
     },
     "execution_count": 12,
     "metadata": {},
     "output_type": "execute_result"
    }
   ],
   "source": [
    "client_db.email_get_pass()"
   ]
  },
  {
   "cell_type": "code",
   "execution_count": 13,
   "id": "1a6cfbff",
   "metadata": {},
   "outputs": [],
   "source": [
    "import datetime as date"
   ]
  },
  {
   "cell_type": "code",
   "execution_count": 14,
   "id": "16b3fac3",
   "metadata": {},
   "outputs": [
    {
     "data": {
      "text/plain": [
       "'2021-01-01'"
      ]
     },
     "execution_count": 14,
     "metadata": {},
     "output_type": "execute_result"
    }
   ],
   "source": [
    "date.date(2021,1,1).isoformat()"
   ]
  },
  {
   "cell_type": "code",
   "execution_count": 15,
   "id": "0a7fd04f",
   "metadata": {},
   "outputs": [
    {
     "data": {
      "text/plain": [
       "[(4, 'COMP2')]"
      ]
     },
     "execution_count": 15,
     "metadata": {},
     "output_type": "execute_result"
    }
   ],
   "source": [
    "client_db.get_voo_to_day(15,6,2021)"
   ]
  },
  {
   "cell_type": "code",
   "execution_count": 16,
   "id": "4cba677f",
   "metadata": {},
   "outputs": [],
   "source": [
    "def user_client_db(email,password):\n",
    "    client = ClientDB(email=email,password=password)\n",
    "\n",
    "    try:\n",
    "        password_db = client.email_get_user()[0]\n",
    "        if (password == password_db):\n",
    "            return user\n",
    "        else:\n",
    "            return None\n",
    "    except:\n",
    "        return False"
   ]
  },
  {
   "cell_type": "code",
   "execution_count": 17,
   "id": "4f08732f",
   "metadata": {},
   "outputs": [
    {
     "name": "stdout",
     "output_type": "stream",
     "text": [
      "('USER1',)\n"
     ]
    }
   ],
   "source": [
    "user_client_db('user1@email','1234')"
   ]
  },
  {
   "cell_type": "code",
   "execution_count": 18,
   "id": "9041acd5",
   "metadata": {},
   "outputs": [],
   "source": [
    "def companhia_to_aeropostos(companhia):\n",
    "    cidades = []\n",
    "    aero = []\n",
    "    results = []\n",
    "    client = ClientDB()\n",
    "\n",
    "    try:\n",
    "        db_results = client.getall_voo_to_companhia(companhia)\n",
    "        for (_,_,src,dst,_,_,_,_) in db_results:\n",
    "            cidades.append(src)\n",
    "            cidades.append(dst)\n",
    "        \n",
    "        for city in cidades:\n",
    "            db_pesquisa = client.getall_areo_to_cidade(city)\n",
    "            for (_,nome,_,_,_) in db_pesquisa:\n",
    "                aero.append(nome)\n",
    "    \n",
    "        for i,a in enumerate(aero):\n",
    "            json_text = {'number': i, 'aeroposto': a}\n",
    "            results.append(json_text)\n",
    "    except:\n",
    "        return None\n",
    "    \n",
    "    return results"
   ]
  },
  {
   "cell_type": "code",
   "execution_count": 19,
   "id": "66738cbb",
   "metadata": {},
   "outputs": [
    {
     "data": {
      "text/plain": [
       "[{'number': 0, 'aeroposto': 'AERO1'},\n",
       " {'number': 1, 'aeroposto': 'AERO2'},\n",
       " {'number': 2, 'aeroposto': 'AERO1'},\n",
       " {'number': 3, 'aeroposto': 'AERO3'}]"
      ]
     },
     "execution_count": 19,
     "metadata": {},
     "output_type": "execute_result"
    }
   ],
   "source": [
    "companhia_to_aeropostos('COMP1')"
   ]
  },
  {
   "cell_type": "code",
   "execution_count": 20,
   "id": "322e9aa4",
   "metadata": {},
   "outputs": [],
   "source": [
    "def origem_to_aeropostos(origem):\n",
    "    results = []\n",
    "    client = ClientDB()\n",
    "\n",
    "    try:\n",
    "        db_results = client.getall_areo_to_cidade(origem)\n",
    "        for i, (_,nome,_,_,_) in enumerate(db_results):\n",
    "            json_text = {'number': i, 'aeroposto': nome}\n",
    "            results.append(json_text)\n",
    "    except:\n",
    "        return None\n",
    "\n",
    "    return results"
   ]
  },
  {
   "cell_type": "code",
   "execution_count": 21,
   "id": "34c36dad",
   "metadata": {},
   "outputs": [
    {
     "data": {
      "text/plain": [
       "[{'number': 0, 'aeroposto': 'AERO1'}]"
      ]
     },
     "execution_count": 21,
     "metadata": {},
     "output_type": "execute_result"
    }
   ],
   "source": [
    "origem_to_aeropostos('UBERLANDIA')"
   ]
  },
  {
   "cell_type": "code",
   "execution_count": 22,
   "id": "fc4cab4f",
   "metadata": {},
   "outputs": [],
   "source": [
    "def voo_to_data(dia,mes,ano):\n",
    "    results = []\n",
    "    client = ClientDB()\n",
    "    try:\n",
    "        dia = int(dia)\n",
    "        mes = int(mes)\n",
    "        ano = int(ano)\n",
    "        db_results = client.get_voo_to_day(dia,mes,ano)\n",
    "    \n",
    "        for i, (id_voo,companhia) in enumerate(db_results):\n",
    "            json_text = {'number': i+1, 'voo': id_voo, 'companhia': companhia}\n",
    "            results.append(json_text)\n",
    "\n",
    "        return results\n",
    "    except:\n",
    "        return None"
   ]
  },
  {
   "cell_type": "code",
   "execution_count": 23,
   "id": "b19b8d6a",
   "metadata": {},
   "outputs": [
    {
     "data": {
      "text/plain": [
       "[{'number': 1, 'voo': 4, 'companhia': 'COMP2'}]"
      ]
     },
     "execution_count": 23,
     "metadata": {},
     "output_type": "execute_result"
    }
   ],
   "source": [
    "voo_to_data(15,6,2021)"
   ]
  },
  {
   "cell_type": "code",
   "execution_count": 24,
   "id": "49ebdcdb",
   "metadata": {},
   "outputs": [],
   "source": [
    "def voo_to_tax_limit(number):\n",
    "    results = []\n",
    "    client = ClientDB()\n",
    "\n",
    "    try:\n",
    "        number = int(number)\n",
    "        db_results = client.get_voo_to_minus_tarifas(number)\n",
    "        \n",
    "        for (id_voo,src,dst,comp) in db_results:\n",
    "            json_text = {'voo': id_voo, 'origem': src,\n",
    "                         'destino': dst, 'companhia': comp}\n",
    "            results.append(json_text)\n",
    "        return results\n",
    "    except:\n",
    "        return None"
   ]
  },
  {
   "cell_type": "code",
   "execution_count": 25,
   "id": "deabc96c",
   "metadata": {},
   "outputs": [
    {
     "data": {
      "text/plain": [
       "[{'voo': 4,\n",
       "  'origem': 'UBERLANDIA',\n",
       "  'destino': 'SÃO PAULO',\n",
       "  'companhia': 'COMP2'},\n",
       " {'voo': 1,\n",
       "  'origem': 'UBERLANDIA',\n",
       "  'destino': 'RIO JANEIRO',\n",
       "  'companhia': 'COMP1'}]"
      ]
     },
     "execution_count": 25,
     "metadata": {},
     "output_type": "execute_result"
    }
   ],
   "source": [
    "voo_to_tax_limit(2)"
   ]
  },
  {
   "cell_type": "code",
   "execution_count": 26,
   "id": "f64ed976",
   "metadata": {},
   "outputs": [],
   "source": [
    "def db_compra(id_voo):\n",
    "    results = []\n",
    "    client = ClientDB()\n",
    "    db_results = client.get_preco_to_id_voo(id_voo)\n",
    "\n",
    "    precos = db_results[0]\n",
    "    vagas = db_results[1]\n",
    "    disponiveis = db_results[2]\n",
    "\n",
    "    if disponiveis < 1:\n",
    "        return {'status': False, 'messagem': 'not_disponivel'}\n",
    "    else:\n",
    "        client.update_voo_one(id_voo,disponiveis-1)\n",
    "        return {'status': True, 'ticket': vagas, 'preco': precos, 'acento': disponiveis}"
   ]
  },
  {
   "cell_type": "code",
   "execution_count": 27,
   "id": "c015b075",
   "metadata": {},
   "outputs": [
    {
     "data": {
      "text/plain": [
       "{'status': True, 'ticket': 42, 'preco': 1970.0, 'acento': 27}"
      ]
     },
     "execution_count": 27,
     "metadata": {},
     "output_type": "execute_result"
    }
   ],
   "source": [
    "db_compra(1)"
   ]
  },
  {
   "cell_type": "code",
   "execution_count": null,
   "id": "466be1d2",
   "metadata": {},
   "outputs": [],
   "source": []
  }
 ],
 "metadata": {
  "kernelspec": {
   "display_name": "Python 3",
   "language": "python",
   "name": "python3"
  },
  "language_info": {
   "codemirror_mode": {
    "name": "ipython",
    "version": 3
   },
   "file_extension": ".py",
   "mimetype": "text/x-python",
   "name": "python",
   "nbconvert_exporter": "python",
   "pygments_lexer": "ipython3",
   "version": "3.8.8"
  }
 },
 "nbformat": 4,
 "nbformat_minor": 5
}
